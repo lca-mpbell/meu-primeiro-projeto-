{
  "nbformat": 4,
  "nbformat_minor": 0,
  "metadata": {
    "colab": {
      "provenance": []
    },
    "kernelspec": {
      "name": "python3",
      "display_name": "Python 3"
    },
    "language_info": {
      "name": "python"
    }
  },
  "cells": [
    {
      "cell_type": "code",
      "execution_count": null,
      "metadata": {
        "id": "afnapW122GoH"
      },
      "outputs": [],
      "source": [
        "# Calculadora Simples com Múltiplas Operações\n",
        "\n",
        "print(\"Bem-vindo à calculadora simples!\")\n",
        "\n",
        "# Laço de repetição para continuar até o usuário decidir sair\n",
        "while True:\n",
        "    # Entrada de dois números\n",
        "    num1 = float(input(\"Digite o primeiro número: \"))\n",
        "    num2 = float(input(\"Digite o segundo número: \"))\n",
        "\n",
        "    # Exibe opções de operação\n",
        "    print(\"\\nEscolha a operação:\")\n",
        "    print(\"1 - Soma\")\n",
        "    print(\"2 - Subtração\")\n",
        "    print(\"3 - Multiplicação\")\n",
        "    print(\"4 - Divisão\")\n",
        "\n",
        "    # Entrada da operação desejada\n",
        "    escolha = input(\"Digite o número da operação desejada (1/2/3/4): \")\n",
        "\n",
        "    # Verifica e executa a operação escolhida\n",
        "    if escolha == '1':\n",
        "        resultado = num1 + num2\n",
        "        print(f\"Resultado da soma: {resultado}\")\n",
        "    elif escolha == '2':\n",
        "        resultado = num1 - num2\n",
        "        print(f\"Resultado da subtração: {resultado}\")\n",
        "    elif escolha == '3':\n",
        "        resultado = num1 * num2\n",
        "        print(f\"Resultado da multiplicação: {resultado}\")\n",
        "    elif escolha == '4':\n",
        "        if num2 != 0:\n",
        "            resultado = num1 / num2\n",
        "            print(f\"Resultado da divisão: {resultado}\")\n",
        "        else:\n",
        "            print(\"Erro: Divisão por zero não é permitida.\")\n",
        "    else:\n",
        "        print(\"Operação inválida. Tente novamente.\")\n",
        "\n",
        "    # Pergunta se o usuário quer fazer outra operação\n",
        "    continuar = input(\"\\nDeseja realizar outra operação? (s/n): \")\n",
        "    if continuar.lower() != 's':\n",
        "        print(\"Obrigado por usar a calculadora. Até mais!\")\n",
        "        break\n"
      ]
    }
  ]
}